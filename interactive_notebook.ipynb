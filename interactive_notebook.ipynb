{
 "cells": [
  {
   "cell_type": "markdown",
   "metadata": {},
   "source": [
    "# Transfer Optimisation Notebook"
   ]
  },
  {
   "cell_type": "code",
   "execution_count": null,
   "metadata": {},
   "outputs": [],
   "source": [
    "import pandas as pd\n",
    "import ipywidgets as widgets\n",
    "from data_load import load_bank_master, load_fee_table, load_balance, load_cashflow\n",
    "from safety import calc_safety\n",
    "from optimise import build_model\n"
   ]
  },
  {
   "cell_type": "code",
   "execution_count": null,
   "metadata": {},
   "outputs": [],
   "source": [
    "horizon = widgets.IntSlider(value=30, min=1, max=90, description='horizon')\n",
    "quant = widgets.FloatSlider(value=0.95, min=0.5, max=0.99, step=0.01, description='quantile')\n",
    "lam = widgets.FloatSlider(value=1.0, min=0.0, max=10.0, step=0.1, description='lambda')\n",
    "display(horizon, quant, lam)"
   ]
  },
  {
   "cell_type": "code",
   "execution_count": null,
   "metadata": {},
   "outputs": [],
   "source": [
    "df_master = load_bank_master('bank_master.csv')\n",
    "df_fee = load_fee_table('fee_table.csv')\n",
    "df_balance = load_balance('balance_snapshot.csv')\n",
    "df_flow = load_cashflow('cashflow_history.csv')\n",
    "safety = calc_safety(df_flow, horizon_days=horizon.value, quantile=quant.value)\n",
    "model, vars = build_model(df_master, df_fee, df_balance, safety, lam=lam.value)\n",
    "display(model)"
   ]
  }
 ],
 "metadata": {
  "kernelspec": {
   "display_name": "Python 3",
   "language": "python",
   "name": "python3"
  },
  "language_info": {
   "name": "python",
   "version": "3.10"
  }
 },
 "nbformat": 4,
 "nbformat_minor": 5
}
